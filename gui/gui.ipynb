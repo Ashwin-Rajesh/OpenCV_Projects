{
 "metadata": {
  "language_info": {
   "codemirror_mode": {
    "name": "ipython",
    "version": 3
   },
   "file_extension": ".py",
   "mimetype": "text/x-python",
   "name": "python",
   "nbconvert_exporter": "python",
   "pygments_lexer": "ipython3",
   "version": "2.7.17-final"
  },
  "orig_nbformat": 2,
  "kernelspec": {
   "name": "python271764bit545ee2a25c6d4467826911a5b3289539",
   "display_name": "Python 2.7.17 64-bit"
  }
 },
 "nbformat": 4,
 "nbformat_minor": 2,
 "cells": [
  {
   "source": [
    "# GUI\n",
    "\n",
    "Demonstrating use of various GUI features in opencv"
   ],
   "cell_type": "markdown",
   "metadata": {}
  },
  {
   "cell_type": "code",
   "execution_count": 1,
   "metadata": {},
   "outputs": [],
   "source": [
    "import cv2\n",
    "import numpy as np"
   ]
  },
  {
   "cell_type": "code",
   "execution_count": 2,
   "metadata": {},
   "outputs": [
    {
     "output_type": "stream",
     "name": "stdout",
     "text": [
      "chessboard_2.jpg  gect.jpg    notes_inv.png  teapot.png\nchessboard.jpg\t  monkey.jpg  notes.png\n"
     ]
    }
   ],
   "source": [
    "!ls Testdata/Images"
   ]
  },
  {
   "cell_type": "code",
   "execution_count": 18,
   "metadata": {},
   "outputs": [],
   "source": [
    "image_name = \"gect.jpg\"\n",
    "image_path = \"Testdata/Images/\" + image_name\n",
    "\n",
    "img = cv2.imread(image_path)"
   ]
  },
  {
   "source": [
    "---\n",
    "## waitkey()\n",
    "waits for specified time in milliseconds, and returns the ASCII code of character pressed. For no argument, it waits forever. Created windows are only displayed if waitKey() is called"
   ],
   "cell_type": "markdown",
   "metadata": {}
  },
  {
   "cell_type": "code",
   "execution_count": 4,
   "metadata": {},
   "outputs": [
    {
     "output_type": "execute_result",
     "data": {
      "text/plain": [
       "-1"
      ]
     },
     "metadata": {},
     "execution_count": 4
    }
   ],
   "source": [
    "cv2.waitKey(1000)"
   ]
  },
  {
   "source": [
    "---\n",
    "## namedWindow()\n",
    "\n",
    "Creates a window of the given name"
   ],
   "cell_type": "markdown",
   "metadata": {}
  },
  {
   "cell_type": "code",
   "execution_count": 5,
   "metadata": {},
   "outputs": [],
   "source": [
    "cv2.namedWindow('hello there!')"
   ]
  },
  {
   "source": [
    "---\n",
    "## destroyWindow()\n",
    "Destroys window of given name"
   ],
   "cell_type": "markdown",
   "metadata": {}
  },
  {
   "cell_type": "code",
   "execution_count": 6,
   "metadata": {},
   "outputs": [],
   "source": [
    "cv2.destroyWindow('hello there!')"
   ]
  },
  {
   "source": [
    "---\n",
    "## destroyAllWindows()\n",
    "\n",
    "Destroy all active windows"
   ],
   "cell_type": "markdown",
   "metadata": {}
  },
  {
   "cell_type": "code",
   "execution_count": 7,
   "metadata": {},
   "outputs": [],
   "source": [
    "cv2.destroyAllWindows()"
   ]
  },
  {
   "source": [
    "---\n",
    "## imshow()\n",
    "\n",
    "Displays image in a window"
   ],
   "cell_type": "markdown",
   "metadata": {}
  },
  {
   "cell_type": "code",
   "execution_count": 8,
   "metadata": {},
   "outputs": [],
   "source": [
    "cv2.imshow(\"Example window\", img)\n",
    "\n",
    "if(cv2.waitKey() & 0xFF == ord('q')):\n",
    "    cv2.destroyWindow(\"Example window\")"
   ]
  },
  {
   "source": [
    "---\n",
    "## createTrackbar()\n",
    "Creates a trackbar in a given window"
   ],
   "cell_type": "markdown",
   "metadata": {}
  },
  {
   "cell_type": "code",
   "execution_count": 22,
   "metadata": {},
   "outputs": [],
   "source": [
    "cv2.namedWindow(\"Trackbar window\")\n",
    "cv2.createTrackbar(\"trackbar\", \"Trackbar window\", 5, 10, lambda x:None)\n",
    "\n",
    "if(cv2.waitKey()== ord('q')):\n",
    "    cv2.destroyWindow(\"Trackbar window\")"
   ]
  },
  {
   "source": [
    "---\n",
    "## setTrackbarMin(), setTrackbarMax()\n",
    "Sets minimum and maximum position of trackbar"
   ],
   "cell_type": "markdown",
   "metadata": {}
  },
  {
   "cell_type": "code",
   "execution_count": 41,
   "metadata": {},
   "outputs": [],
   "source": [
    "cv2.namedWindow(\"Trackbar window\")\n",
    "cv2.createTrackbar(\"trackbar\", \"Trackbar window\", 5, 10, lambda x: None)\n",
    "\n",
    "cv2.setTrackbarMax(\"trackbar\", \"Trackbar window\", 100)\n",
    "cv2.setTrackbarMin(\"trackbar\", \"Trackbar window\", 50)\n",
    "\n",
    "cv2.setTrackbarPos(\"trackbar\", \"Trackbar window\", 75)\n",
    "\n",
    "if(cv2.waitKey() == ord('q')):\n",
    "    cv2.destroyWindow(\"Trackbar window\")"
   ]
  },
  {
   "source": [
    "---\n",
    "## getTrackbarPos()\n",
    "Returns the current position of trackbar, spicified by window name and trackbar name"
   ],
   "cell_type": "markdown",
   "metadata": {}
  },
  {
   "cell_type": "code",
   "execution_count": 37,
   "metadata": {},
   "outputs": [
    {
     "output_type": "stream",
     "name": "stdout",
     "text": [
      "5 5 5 5 5 5 7 8 8 9 10 9 4\n"
     ]
    }
   ],
   "source": [
    "cv2.namedWindow(\"Trackbar window\")\n",
    "cv2.createTrackbar(\"trackbar\", \"Trackbar window\", 5, 10, lambda x:None)\n",
    "\n",
    "while(cv2.waitKey(1000) & 0xFF != ord('q')):\n",
    "    print(cv2.getTrackbarPos(\"trackbar\", \"Trackbar window\")),\n",
    "\n",
    "cv2.destroyWindow(\"Trackbar window\")"
   ]
  },
  {
   "source": [
    "---\n",
    "# setMouseCallback()\n",
    "Sets function to be called when mouse event occurs."
   ],
   "cell_type": "markdown",
   "metadata": {}
  },
  {
   "cell_type": "code",
   "execution_count": 44,
   "metadata": {
    "tags": []
   },
   "outputs": [],
   "source": [
    "cv2.namedWindow(\"Mouse window\")\n",
    "\n",
    "raw_img = np.zeros((1000,1000,3))\n",
    "\n",
    "def mouse_callback(event, x, y, flag, userdata):\n",
    "    y_c = 10*int((y-1)/10)\n",
    "    x_c = 10*int((x-1)/10)\n",
    "    if(flag == 1):\n",
    "        raw_img[y_c:y_c+10, x_c:x_c+10] = 255\n",
    "    elif(flag==2):\n",
    "        raw_img[y_c:y_c+10, x_c:x_c+10] = 0\n",
    "    elif(flag==cv2.EVENT_FLAG_CTRLKEY):\n",
    "        raw_img[y_c:y_c+10, x_c:x_c+10,0] = 255\n",
    "    elif(flag==cv2.EVENT_FLAG_SHIFTKEY):\n",
    "        raw_img[y_c:y_c+10, x_c:x_c+10,1] = 255\n",
    "    elif(flag==cv2.EVENT_FLAG_ALTKEY):\n",
    "        raw_img[y_c:y_c+10, x_c:x_c+10,2] = 255\n",
    "\n",
    "\n",
    "cv2.setMouseCallback(\"Mouse window\", mouse_callback)\n",
    "\n",
    "while(cv2.waitKey(1) & 0xFF != ord('q')):\n",
    "    cv2.imshow(\"Mouse window\", raw_img)\n",
    "\n",
    "cv2.destroyWindow(\"Mouse window\")"
   ]
  },
  {
   "source": [
    "---\n",
    "## createROI()\n",
    "Returns coordinates of a rectangular area (top left coordinates and width and height) selected using a mouse"
   ],
   "cell_type": "markdown",
   "metadata": {}
  },
  {
   "cell_type": "code",
   "execution_count": 21,
   "metadata": {},
   "outputs": [
    {
     "output_type": "stream",
     "name": "stdout",
     "text": [
      "(814, 177, 155, 377)\n"
     ]
    }
   ],
   "source": [
    "coords = cv2.selectROI(\"Image\", img, False, False)\n",
    "\n",
    "print(coords)\n",
    "\n",
    "img_temp = img.copy()\n",
    "\n",
    "img_temp[coords[1]:coords[1]+coords[3],coords[0]:coords[0]+coords[2], 2] = 200\n",
    "\n",
    "cv2.imshow(\"Image\", img_temp)\n",
    "\n",
    "if(cv2.waitKey() & 0xFF == ord('q')):\n",
    "    cv2.destroyWindow(\"Image\")"
   ]
  },
  {
   "cell_type": "code",
   "execution_count": null,
   "metadata": {},
   "outputs": [],
   "source": [
    "help(cv2.sele)"
   ]
  }
 ]
}