{
 "metadata": {
  "language_info": {
   "codemirror_mode": {
    "name": "ipython",
    "version": 3
   },
   "file_extension": ".py",
   "mimetype": "text/x-python",
   "name": "python",
   "nbconvert_exporter": "python",
   "pygments_lexer": "ipython3",
   "version": "2.7.17-final"
  },
  "orig_nbformat": 2,
  "kernelspec": {
   "name": "python271764bit545ee2a25c6d4467826911a5b3289539",
   "display_name": "Python 2.7.17 64-bit"
  }
 },
 "nbformat": 4,
 "nbformat_minor": 2,
 "cells": [
  {
   "source": [
    "# GUI\n",
    "\n",
    "Demonstrating use of various GUI features in opencv"
   ],
   "cell_type": "markdown",
   "metadata": {}
  },
  {
   "cell_type": "code",
   "execution_count": 1,
   "metadata": {},
   "outputs": [],
   "source": [
    "import cv2\n",
    "import numpy as np"
   ]
  },
  {
   "cell_type": "code",
   "execution_count": 2,
   "metadata": {},
   "outputs": [
    {
     "output_type": "stream",
     "name": "stdout",
     "text": [
      "chessboard_2.jpg  gect.jpg    notes_inv.png  teapot.png\nchessboard.jpg\t  monkey.jpg  notes.png\n"
     ]
    }
   ],
   "source": [
    "!ls Testdata/Images"
   ]
  },
  {
   "cell_type": "code",
   "execution_count": 3,
   "metadata": {},
   "outputs": [],
   "source": [
    "image_name = \"gect.jpg\"\n",
    "image_path = \"Testdata/Images/\" + image_name\n",
    "\n",
    "img = cv2.imread(image_path)"
   ]
  },
  {
   "source": [
    "---\n",
    "## waitkey()\n",
    "waits for specified time in milliseconds, and returns the ASCII code of character pressed. For no argument, it waits forever. Created windows are only displayed if waitKey() is called"
   ],
   "cell_type": "markdown",
   "metadata": {}
  },
  {
   "cell_type": "code",
   "execution_count": 4,
   "metadata": {},
   "outputs": [
    {
     "output_type": "execute_result",
     "data": {
      "text/plain": [
       "255"
      ]
     },
     "metadata": {},
     "execution_count": 4
    }
   ],
   "source": [
    "cv2.waitKey(1000)"
   ]
  },
  {
   "source": [
    "---\n",
    "## namedWindow()\n",
    "\n",
    "Creates a window of the given name"
   ],
   "cell_type": "markdown",
   "metadata": {}
  },
  {
   "cell_type": "code",
   "execution_count": 5,
   "metadata": {},
   "outputs": [],
   "source": [
    "cv2.namedWindow('hello there!')"
   ]
  },
  {
   "source": [
    "---\n",
    "## destroyWindow()\n",
    "Destroys window of given name"
   ],
   "cell_type": "markdown",
   "metadata": {}
  },
  {
   "cell_type": "code",
   "execution_count": 6,
   "metadata": {},
   "outputs": [],
   "source": [
    "cv2.destroyWindow('hello there!')"
   ]
  },
  {
   "source": [
    "---\n",
    "## destroyAllWindows()\n",
    "\n",
    "Destroy all active windows"
   ],
   "cell_type": "markdown",
   "metadata": {}
  },
  {
   "cell_type": "code",
   "execution_count": 7,
   "metadata": {},
   "outputs": [],
   "source": [
    "cv2.destroyAllWindows()"
   ]
  },
  {
   "source": [
    "---\n",
    "## imshow()\n",
    "\n",
    "Displays image in a window"
   ],
   "cell_type": "markdown",
   "metadata": {}
  },
  {
   "cell_type": "code",
   "execution_count": 12,
   "metadata": {},
   "outputs": [],
   "source": [
    "cv2.imshow(\"Example window\", img)\n",
    "\n",
    "if(cv2.waitKey() & 0xFF == ord('q')):\n",
    "    cv2.destroyWindow(\"Example window\")"
   ]
  },
  {
   "cell_type": "code",
   "execution_count": null,
   "metadata": {},
   "outputs": [],
   "source": []
  }
 ]
}