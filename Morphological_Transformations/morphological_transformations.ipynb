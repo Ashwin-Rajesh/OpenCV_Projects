{
 "metadata": {
  "language_info": {
   "codemirror_mode": {
    "name": "ipython",
    "version": 3
   },
   "file_extension": ".py",
   "mimetype": "text/x-python",
   "name": "python",
   "nbconvert_exporter": "python",
   "pygments_lexer": "ipython3",
   "version": "2.7.17-final"
  },
  "orig_nbformat": 2,
  "kernelspec": {
   "name": "python271764bit545ee2a25c6d4467826911a5b3289539",
   "display_name": "Python 2.7.17 64-bit"
  }
 },
 "nbformat": 4,
 "nbformat_minor": 2,
 "cells": [
  {
   "source": [
    "## Importing libraries"
   ],
   "cell_type": "markdown",
   "metadata": {}
  },
  {
   "cell_type": "code",
   "execution_count": 2,
   "metadata": {},
   "outputs": [],
   "source": [
    "import numpy as np\n",
    "import cv2\n",
    "\n",
    "import matplotlib.pyplot as plt"
   ]
  },
  {
   "source": [
    "## Reading image"
   ],
   "cell_type": "markdown",
   "metadata": {}
  },
  {
   "cell_type": "code",
   "execution_count": 3,
   "metadata": {},
   "outputs": [],
   "source": [
    "def ResizeWithAspectRatio(image, width=None, height=None, inter=cv2.INTER_AREA):\n",
    "    dim = None\n",
    "    (h, w) = image.shape[:2]\n",
    "\n",
    "    if width is None and height is None:\n",
    "        return image\n",
    "    if width is None:\n",
    "        r = height / float(h)\n",
    "        dim = (int(w * r), height)\n",
    "    else:\n",
    "        r = width / float(w)\n",
    "        dim = (width, int(h * r))\n",
    "\n",
    "    return cv2.resize(image, dim, interpolation=inter)"
   ]
  },
  {
   "cell_type": "code",
   "execution_count": 4,
   "metadata": {},
   "outputs": [
    {
     "output_type": "stream",
     "name": "stdout",
     "text": [
      "Images avaialable : \nchessboard_2.jpg  gect.jpg    notes_inv.png  teapot.png\nchessboard.jpg\t  monkey.jpg  notes.png\n"
     ]
    }
   ],
   "source": [
    "!echo \"Images avaialable : \"; ls TestData/Images/"
   ]
  },
  {
   "cell_type": "code",
   "execution_count": 5,
   "metadata": {},
   "outputs": [
    {
     "output_type": "display_data",
     "data": {
      "image/png": "[encoded data removed]",
      "text/plain": "<matplotlib.figure.Figure at 0x7f64cc6834d0>"
     },
     "metadata": {
      "needs_background": "light"
     }
    }
   ],
   "source": [
    "image_name = \"notes.png\"\n",
    "image_path = \"TestData/Images/\" + image_name\n",
    "\n",
    "img = cv2.imread(image_path)\n",
    "\n",
    "if img is None:\n",
    "    print(\" Image could not be read\")\n",
    "else:\n",
    "    img = ResizeWithAspectRatio(img, width=720)\n",
    "\n",
    "    img_gray = cv2.cvtColor(img, cv2.COLOR_BGR2GRAY)\n",
    "\n",
    "    plt.subplot(1, 2, 1)\n",
    "    plt.imshow(cv2.cvtColor(img, cv2.COLOR_BGR2RGB))\n",
    "    plt.title(\" Input image\")\n",
    "\n",
    "    plt.subplot(1, 2, 2)\n",
    "    plt.imshow(img_gray, cmap=\"gray\")\n",
    "    plt.title(\" Grayscale image\")\n",
    "\n",
    "    plt.show()"
   ]
  },
  {
   "cell_type": "code",
   "execution_count": 9,
   "metadata": {},
   "outputs": [],
   "source": [
    "## Erosion and dilation\n",
    "dh = 5\n",
    "dw = 5\n",
    "noise = 10\n",
    "\n",
    "def update_dh(x): \n",
    "    global dh\n",
    "    if(x > 0):\n",
    "        dh = x\n",
    "def update_dw(x): \n",
    "    global dw\n",
    "    if(x > 0):\n",
    "        dw = x\n",
    "def update_noise(x):\n",
    "    global noise\n",
    "    noise = x\n",
    "\n",
    "cv2.namedWindow(\"dilate, erode\")\n",
    "cv2.createTrackbar(\"dh\", \"dilate, erode\", dh, 10, update_dh)\n",
    "cv2.createTrackbar(\"dw\", \"dilate, erode\", dw, 10, update_dw)\n",
    "cv2.createTrackbar(\"noise\", \"dilate, erode\", noise, 256, update_noise)\n",
    "\n",
    "cv2.imshow(\"Original image\", img_gray)\n",
    "\n",
    "while(True):\n",
    "    dilated = cv2.morphologyEx(img, cv2.MORPH_DILATE, np.ones((dh, dw)))\n",
    "    eroded = cv2.morphologyEx(img, cv2.MORPH_ERODE, np.ones((dh, dw)))\n",
    "\n",
    "    out = np.concatenate((dilated, eroded), axis=1)\n",
    "    \n",
    "    cv2.imshow(\"dilate, erode\", out)\n",
    "\n",
    "    k = cv2.waitKey(100) & 0xFF\n",
    "    \n",
    "    if k == ord('q'):\n",
    "        break\n",
    "\n",
    "cv2.destroyAllWindows()"
   ]
  },
  {
   "cell_type": "code",
   "execution_count": 12,
   "metadata": {},
   "outputs": [],
   "source": [
    "## Opening and closing\n",
    "dh = 5\n",
    "dw = 5\n",
    "noise = 10\n",
    "\n",
    "def update_dh(x): \n",
    "    global dh\n",
    "    if(x > 0):\n",
    "        dh = x\n",
    "def update_dw(x): \n",
    "    global dw\n",
    "    if(x > 0):\n",
    "        dw = x\n",
    "def update_noise(x):\n",
    "    global noise\n",
    "    noise = x\n",
    "\n",
    "win_name = \"open, close\"\n",
    "\n",
    "cv2.namedWindow(win_name)\n",
    "cv2.createTrackbar(\"dh\", win_name, dh, 10, update_dh)\n",
    "cv2.createTrackbar(\"dw\", win_name, dw, 10, update_dw)\n",
    "cv2.createTrackbar(\"noise\", win_name, noise, 256, update_noise)\n",
    "\n",
    "cv2.imshow(\"Original image\", img_gray)\n",
    "\n",
    "while(True):\n",
    "    opened = cv2.morphologyEx(img, cv2.MORPH_OPEN, np.ones((dh, dw)))\n",
    "    closed = cv2.morphologyEx(img, cv2.MORPH_CLOSE, np.ones((dh, dw)))\n",
    "\n",
    "    out = np.concatenate((opened, closed), axis=1)\n",
    "    \n",
    "    cv2.imshow(win_name, out)\n",
    "\n",
    "    k = cv2.waitKey(100) & 0xFF\n",
    "    \n",
    "    if k == ord('q'):\n",
    "        break\n",
    "\n",
    "cv2.destroyAllWindows()"
   ]
  },
  {
   "cell_type": "code",
   "execution_count": 48,
   "metadata": {},
   "outputs": [],
   "source": [
    "## Gradient\n",
    "dh = 5\n",
    "dw = 5\n",
    "noise = 10\n",
    "\n",
    "def update_dh(x): \n",
    "    global dh\n",
    "    if(x > 0):\n",
    "        dh = x\n",
    "def update_dw(x): \n",
    "    global dw\n",
    "    if(x > 0):\n",
    "        dw = x\n",
    "def update_noise(x):\n",
    "    global noise\n",
    "    noise = x\n",
    "\n",
    "cv2.namedWindow(\"opening\")\n",
    "cv2.createTrackbar(\"dh\", \"opening\", dh, 10, update_dh)\n",
    "cv2.createTrackbar(\"dw\", \"opening\", dw, 10, update_dw)\n",
    "cv2.createTrackbar(\"noise\", \"opening\", noise, 256, update_noise)\n",
    "\n",
    "cv2.imshow(\"Original image\", img_gray)\n",
    "\n",
    "while(True):\n",
    "    noised_img = (img_gray + noise * np.random.randn(img_gray.shape[0], img_gray.shape[1])).astype(np.uint8)\n",
    "    \n",
    "    cv2.imshow(\"Noised image\", noised_img)\n",
    "\n",
    "    out=cv2.erode(noised_img, np.ones((dh,dw)))\n",
    "    out=cv2.dilate(out, np.ones((dh,dw)))\n",
    "    \n",
    "    cv2.imshow(\"opening\", out)\n",
    "\n",
    "    k = cv2.waitKey(100) & 0xFF\n",
    "    \n",
    "    if k == ord('q'):\n",
    "        break\n",
    "\n",
    "cv2.destroyAllWindows()"
   ]
  },
  {
   "cell_type": "code",
   "execution_count": 45,
   "metadata": {},
   "outputs": [],
   "source": [
    "## Opening\n",
    "dh = 5\n",
    "dw = 5\n",
    "noise = 10\n",
    "\n",
    "def update_dh(x): \n",
    "    global dh\n",
    "    if(x > 0):\n",
    "        dh = x\n",
    "def update_dw(x): \n",
    "    global dw\n",
    "    if(x > 0):\n",
    "        dw = x\n",
    "def update_noise(x):\n",
    "    global noise\n",
    "    noise = x\n",
    "\n",
    "cv2.namedWindow(\"closing\")\n",
    "cv2.createTrackbar(\"dh\", \"closing\", dh, 10, update_dh)\n",
    "cv2.createTrackbar(\"dw\", \"closing\", dw, 10, update_dw)\n",
    "cv2.createTrackbar(\"noise\", \"closing\", noise, 256, update_noise)\n",
    "\n",
    "cv2.imshow(\"Original image\", img_gray)\n",
    "\n",
    "while(True):\n",
    "    noised_img = (img_gray + noise * np.random.randn(img_gray.shape[0], img_gray.shape[1])).astype(np.uint8)\n",
    "    noised_img = img_gray\n",
    "    \n",
    "    cv2.imshow(\"Noised image\", noised_img)\n",
    "\n",
    "    out=cv2.dilate(noised_img, np.ones((dh,dw)))\n",
    "    out=cv2.erode(out, np.ones((dh,dw)))\n",
    "    \n",
    "    cv2.imshow(\"closing\", out)\n",
    "\n",
    "    k = cv2.waitKey(100) & 0xFF\n",
    "    \n",
    "    if k == ord('q'):\n",
    "        break\n",
    "\n",
    "cv2.destroyAllWindows()"
   ]
  },
  {
   "cell_type": "code",
   "execution_count": null,
   "metadata": {},
   "outputs": [],
   "source": []
  }
 ]
}